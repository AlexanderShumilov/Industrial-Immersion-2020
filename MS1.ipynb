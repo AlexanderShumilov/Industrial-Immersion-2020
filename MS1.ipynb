{
 "cells": [
  {
   "cell_type": "markdown",
   "metadata": {},
   "source": [
    "## For data analysis we will use ms1searchpy - a proteomics search engine for LC-MS1 spectra: https://github.com/markmipt/ms1searchpy"
   ]
  },
  {
   "cell_type": "markdown",
   "metadata": {},
   "source": [
    "First thing to do is to convert .raw files in .mzML format. Foк that purpose ProteoWizard (http://proteowizard.sourceforge.net/) is suggested (pretty intuitive open software)"
   ]
  },
  {
   "cell_type": "markdown",
   "metadata": {},
   "source": [
    "Second thing to do is aquire DINOSAUR (java-executable file in .jar format) and run it in command line:\n",
    "\n",
    "java -jar Dinosaur-1.1.\\*.free.jar --verbose --profiling --concurrency=4 \\*\\*.mzML\n",
    "\n",
    "\\* - version of Dinosaur software\n",
    "\n",
    "\\*\\* - name of .mzML file\n",
    "\n",
    "The result of work is .tsv file containing information about features and bunch of pictures."
   ]
  },
  {
   "cell_type": "code",
   "execution_count": 5,
   "metadata": {},
   "outputs": [],
   "source": [
    "import pyteomics\n",
    "import numpy as np\n",
    "import scipy as sp\n",
    "import sklearn\n",
    "import ms1searchpy\n",
    "import pandas as pd"
   ]
  },
  {
   "cell_type": "code",
   "execution_count": 13,
   "metadata": {},
   "outputs": [],
   "source": [
    "df = pd.read_csv(\"NCPZsample_15min_50k.features.tsv\", sep = '\\t')"
   ]
  },
  {
   "cell_type": "code",
   "execution_count": 14,
   "metadata": {},
   "outputs": [
    {
     "data": {
      "text/html": [
       "<div>\n",
       "<style scoped>\n",
       "    .dataframe tbody tr th:only-of-type {\n",
       "        vertical-align: middle;\n",
       "    }\n",
       "\n",
       "    .dataframe tbody tr th {\n",
       "        vertical-align: top;\n",
       "    }\n",
       "\n",
       "    .dataframe thead th {\n",
       "        text-align: right;\n",
       "    }\n",
       "</style>\n",
       "<table border=\"1\" class=\"dataframe\">\n",
       "  <thead>\n",
       "    <tr style=\"text-align: right;\">\n",
       "      <th></th>\n",
       "      <th>mz</th>\n",
       "      <th>mostAbundantMz</th>\n",
       "      <th>charge</th>\n",
       "      <th>rtStart</th>\n",
       "      <th>rtApex</th>\n",
       "      <th>rtEnd</th>\n",
       "      <th>fwhm</th>\n",
       "      <th>nIsotopes</th>\n",
       "      <th>nScans</th>\n",
       "      <th>averagineCorr</th>\n",
       "      <th>mass</th>\n",
       "      <th>massCalib</th>\n",
       "      <th>intensityApex</th>\n",
       "      <th>intensitySum</th>\n",
       "    </tr>\n",
       "  </thead>\n",
       "  <tbody>\n",
       "    <tr>\n",
       "      <td>0</td>\n",
       "      <td>300.060997</td>\n",
       "      <td>300.060997</td>\n",
       "      <td>1</td>\n",
       "      <td>0.021672</td>\n",
       "      <td>0.084284</td>\n",
       "      <td>0.157584</td>\n",
       "      <td>0.252394</td>\n",
       "      <td>2</td>\n",
       "      <td>8</td>\n",
       "      <td>0.987156</td>\n",
       "      <td>299.052217</td>\n",
       "      <td>299.047772</td>\n",
       "      <td>7181.704834</td>\n",
       "      <td>72277.674225</td>\n",
       "    </tr>\n",
       "    <tr>\n",
       "      <td>1</td>\n",
       "      <td>445.119138</td>\n",
       "      <td>445.119138</td>\n",
       "      <td>1</td>\n",
       "      <td>0.021672</td>\n",
       "      <td>0.152837</td>\n",
       "      <td>0.491916</td>\n",
       "      <td>1.663935</td>\n",
       "      <td>2</td>\n",
       "      <td>29</td>\n",
       "      <td>0.989797</td>\n",
       "      <td>444.111494</td>\n",
       "      <td>444.111297</td>\n",
       "      <td>23489.203690</td>\n",
       "      <td>660695.827179</td>\n",
       "    </tr>\n",
       "    <tr>\n",
       "      <td>2</td>\n",
       "      <td>372.099366</td>\n",
       "      <td>372.099366</td>\n",
       "      <td>1</td>\n",
       "      <td>0.174297</td>\n",
       "      <td>0.237780</td>\n",
       "      <td>0.458480</td>\n",
       "      <td>0.335719</td>\n",
       "      <td>2</td>\n",
       "      <td>17</td>\n",
       "      <td>0.981654</td>\n",
       "      <td>371.090626</td>\n",
       "      <td>371.089298</td>\n",
       "      <td>6720.230438</td>\n",
       "      <td>143116.774017</td>\n",
       "    </tr>\n",
       "    <tr>\n",
       "      <td>3</td>\n",
       "      <td>300.061256</td>\n",
       "      <td>300.061256</td>\n",
       "      <td>1</td>\n",
       "      <td>0.157584</td>\n",
       "      <td>0.231291</td>\n",
       "      <td>0.374903</td>\n",
       "      <td>0.287073</td>\n",
       "      <td>2</td>\n",
       "      <td>12</td>\n",
       "      <td>0.987145</td>\n",
       "      <td>299.052369</td>\n",
       "      <td>299.047949</td>\n",
       "      <td>8560.553238</td>\n",
       "      <td>122624.014740</td>\n",
       "    </tr>\n",
       "    <tr>\n",
       "      <td>4</td>\n",
       "      <td>356.068381</td>\n",
       "      <td>356.068381</td>\n",
       "      <td>1</td>\n",
       "      <td>0.021672</td>\n",
       "      <td>0.070676</td>\n",
       "      <td>0.475199</td>\n",
       "      <td>0.575050</td>\n",
       "      <td>2</td>\n",
       "      <td>28</td>\n",
       "      <td>0.930900</td>\n",
       "      <td>355.059044</td>\n",
       "      <td>355.057390</td>\n",
       "      <td>20815.808426</td>\n",
       "      <td>886291.501495</td>\n",
       "    </tr>\n",
       "  </tbody>\n",
       "</table>\n",
       "</div>"
      ],
      "text/plain": [
       "           mz  mostAbundantMz  charge   rtStart    rtApex     rtEnd      fwhm  \\\n",
       "0  300.060997      300.060997       1  0.021672  0.084284  0.157584  0.252394   \n",
       "1  445.119138      445.119138       1  0.021672  0.152837  0.491916  1.663935   \n",
       "2  372.099366      372.099366       1  0.174297  0.237780  0.458480  0.335719   \n",
       "3  300.061256      300.061256       1  0.157584  0.231291  0.374903  0.287073   \n",
       "4  356.068381      356.068381       1  0.021672  0.070676  0.475199  0.575050   \n",
       "\n",
       "   nIsotopes  nScans  averagineCorr        mass   massCalib  intensityApex  \\\n",
       "0          2       8       0.987156  299.052217  299.047772    7181.704834   \n",
       "1          2      29       0.989797  444.111494  444.111297   23489.203690   \n",
       "2          2      17       0.981654  371.090626  371.089298    6720.230438   \n",
       "3          2      12       0.987145  299.052369  299.047949    8560.553238   \n",
       "4          2      28       0.930900  355.059044  355.057390   20815.808426   \n",
       "\n",
       "    intensitySum  \n",
       "0   72277.674225  \n",
       "1  660695.827179  \n",
       "2  143116.774017  \n",
       "3  122624.014740  \n",
       "4  886291.501495  "
      ]
     },
     "execution_count": 14,
     "metadata": {},
     "output_type": "execute_result"
    }
   ],
   "source": [
    "df.head(5)"
   ]
  },
  {
   "cell_type": "code",
   "execution_count": null,
   "metadata": {},
   "outputs": [],
   "source": []
  }
 ],
 "metadata": {
  "kernelspec": {
   "display_name": "Python 3",
   "language": "python",
   "name": "python3"
  },
  "language_info": {
   "codemirror_mode": {
    "name": "ipython",
    "version": 3
   },
   "file_extension": ".py",
   "mimetype": "text/x-python",
   "name": "python",
   "nbconvert_exporter": "python",
   "pygments_lexer": "ipython3",
   "version": "3.7.4"
  }
 },
 "nbformat": 4,
 "nbformat_minor": 2
}
